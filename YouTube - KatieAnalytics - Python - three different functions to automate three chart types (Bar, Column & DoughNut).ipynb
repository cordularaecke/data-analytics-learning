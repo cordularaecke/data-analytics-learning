{
 "cells": [
  {
   "cell_type": "code",
   "execution_count": 1,
   "metadata": {
    "ExecuteTime": {
     "end_time": "2020-12-01T10:38:43.096626Z",
     "start_time": "2020-12-01T10:38:42.628955Z"
    }
   },
   "outputs": [],
   "source": [
    "# REF:: https://youtu.be/SBNE5UbGGH4\n",
    "import pandas as pd\n",
    "import numpy as np\n",
    "import xlsxwriter\n",
    "from xlsxwriter.utility import xl_range_abs"
   ]
  },
  {
   "cell_type": "markdown",
   "metadata": {},
   "source": [
    "# Setup"
   ]
  },
  {
   "cell_type": "markdown",
   "metadata": {},
   "source": [
    "## helper functions"
   ]
  },
  {
   "cell_type": "markdown",
   "metadata": {},
   "source": [
    "### get_data()"
   ]
  },
  {
   "cell_type": "code",
   "execution_count": 2,
   "metadata": {
    "ExecuteTime": {
     "end_time": "2020-12-01T10:38:43.115242Z",
     "start_time": "2020-12-01T10:38:43.099554Z"
    },
    "code_folding": [
     0
    ]
   },
   "outputs": [],
   "source": [
    "def get_data(rows = 200, year=2020, seed=42):\n",
    "    '''\n",
    "    Generate sales product test data for given year:\n",
    "    location, product, month, target_sales, target_profit, actual_sales, actual profit.\n",
    "    \n",
    "    Example\n",
    "    -------\n",
    "    df = get_data()\n",
    "\n",
    "    \n",
    "    Parameters\n",
    "    ----------\n",
    "    number_of_rows - int - number of records/rows required.\n",
    "    \n",
    "    year - int - sales year to generate data for.\n",
    "    \n",
    "    \n",
    "    Returns\n",
    "    -------\n",
    "    Pandas Dataframe\n",
    "    \n",
    "    '''\n",
    "    np.random.seed(seed)\n",
    "    \n",
    "    locations = ['London', 'Paris', 'Milan']\n",
    "    products = ['Tops & Blouses', 'Jeans', 'Footwear', 'Beachwear', 'Sportswear']  \n",
    "\n",
    "    data = {\n",
    "        'location': np.random.choice(locations, size=rows),\n",
    "        'product': np.random.choice(products, size=rows),\n",
    "        'month': np.random.choice(range(1, 13), size=rows),\n",
    "        'target_sales': np.random.randint(14000, 40000, size=rows),\n",
    "        'target%_profit': np.random.randint(10, size=rows) * .02\n",
    "    }\n",
    "\n",
    "    df = pd.DataFrame(data)\n",
    "\n",
    "    df['month'] = df['month'].apply(\n",
    "        lambda x: pd.Period(f'{year}-{str(x).zfill(2)}'))\n",
    "\n",
    "    df['target_profit'] = df['target_sales'] * df['target%_profit']\n",
    "\n",
    "    actual_sales_lambda = lambda x: x + (x * np.random.choice(range(-10, 10)) / 100)\n",
    "    df['actual_sales'] = df['target_sales'].apply(actual_sales_lambda)\n",
    "\n",
    "    df['actual_profit'] = (df['actual_sales'] * df['target%_profit']).round(2)\n",
    "    df.drop(columns=['target%_profit'], inplace=True)\n",
    "    df.month = pd.PeriodIndex(df.month).to_timestamp()\n",
    "    \n",
    "    df = df.sort_values(['month', 'location', 'product'])\n",
    "    df.reset_index(drop=True, inplace=True)\n",
    "\n",
    "    return df"
   ]
  },
  {
   "cell_type": "markdown",
   "metadata": {},
   "source": [
    "### doughnut_chart()"
   ]
  },
  {
   "cell_type": "code",
   "execution_count": 3,
   "metadata": {
    "ExecuteTime": {
     "end_time": "2020-12-01T10:38:43.129904Z",
     "start_time": "2020-12-01T10:38:43.117370Z"
    },
    "code_folding": []
   },
   "outputs": [],
   "source": [
    "def doughnut_chart(wb, category_range, value_range):\n",
    "    '''\n",
    "    Define doughnut chart\n",
    "\n",
    "    Parameters:\n",
    "    -----------\n",
    "    wb: workbook - excel workbook reference\n",
    "    \n",
    "    category_range: str - indicates absolute excel range e.g. '$A$1:$A$40'\n",
    "                        defining the data used for category\n",
    "                        \n",
    "    value_range: str - indicates absolute excel range e.g. '$A$1:$A$40'\n",
    "                        defining the data used for value\n",
    "                        \n",
    "    Returns\n",
    "    -------\n",
    "    chart object (reference)                        \n",
    "    '''  \n",
    "    chart = wb.add_chart({'type': 'doughnut'})\n",
    "    \n",
    "    mycolors = ['#E6B9B8', '#7F7F7F', '#E17179', '#FFFFA3']\n",
    "    points = [{'fill': {'color': color}} for color in mycolors]\n",
    "\n",
    "    chart.add_series({\n",
    "        'categories': category_range,\n",
    "        'values': value_range,\n",
    "        'data_labels': {'value': True, 'num_format': '#,##0'},\n",
    "        'points': points\n",
    "    })\n",
    "\n",
    "    chart.set_hole_size(30)\n",
    "    chart.set_plotarea({'layout': {'x': 0.01, 'y': 0.01, 'width': 0.87, 'height': 0.97}})\n",
    "    chart.set_chartarea({'border': {'none': True}})\n",
    "\n",
    "    return chart"
   ]
  },
  {
   "cell_type": "markdown",
   "metadata": {},
   "source": [
    "### bar_chart()"
   ]
  },
  {
   "cell_type": "code",
   "execution_count": 4,
   "metadata": {
    "ExecuteTime": {
     "end_time": "2020-12-01T10:38:43.136977Z",
     "start_time": "2020-12-01T10:38:43.131374Z"
    },
    "code_folding": []
   },
   "outputs": [],
   "source": [
    "def bar_chart(wb, category_range, value_range):\n",
    "    '''\n",
    "    Define bar chart\n",
    "\n",
    "    Parameters:\n",
    "    -----------\n",
    "    wb: workbook - excel workbook reference\n",
    "    \n",
    "    category_range: str - indicates absolute excel range e.g. '$A$1:$A$40'\n",
    "                        defining the data used for category\n",
    "                        \n",
    "    value_range: str - indicates absolute excel range e.g. '$A$1:$A$40'\n",
    "                        defining the data used for value\n",
    "                        \n",
    "    Returns\n",
    "    -------\n",
    "    chart object (reference)                        \n",
    "    '''  \n",
    "    chart = wb.add_chart({'type': 'bar'})\n",
    "    \n",
    "    chart.add_series({\n",
    "        'categories': category_range,\n",
    "        'values': value_range,\n",
    "        'data_labels': {'value': True, 'num_format': '#,##0'},\n",
    "        'fill': {'color':'#9999FF'},\n",
    "        'gap': 20\n",
    "    })\n",
    "\n",
    "    chart.set_legend({'none': True})\n",
    "    chart.set_plotarea({'layout': {'x': 0.01, 'y': 0.01, 'width': 0.97, 'height': 0.67}})\n",
    "    chart.set_chartarea({'border': {'none': True}})\n",
    "\n",
    "    return chart"
   ]
  },
  {
   "cell_type": "markdown",
   "metadata": {},
   "source": [
    "### column_chart()"
   ]
  },
  {
   "cell_type": "code",
   "execution_count": 5,
   "metadata": {
    "ExecuteTime": {
     "end_time": "2020-12-01T10:38:43.151420Z",
     "start_time": "2020-12-01T10:38:43.140108Z"
    },
    "code_folding": []
   },
   "outputs": [],
   "source": [
    "def column_chart(wb, category_range, value_range):\n",
    "    '''\n",
    "    Define column chart\n",
    "\n",
    "    Parameters:\n",
    "    -----------\n",
    "    wb: workbook - excel workbook reference\n",
    "    \n",
    "    category_range: str - indicates absolute excel range e.g. '$A$1:$A$40'\n",
    "                        defining the data used for category\n",
    "                        \n",
    "    value_range: str - indicates absolute excel range e.g. '$A$1:$A$40'\n",
    "                        defining the data used for value\n",
    "                        \n",
    "    Returns\n",
    "    -------\n",
    "    chart object (reference)                       \n",
    "    '''  \n",
    "    chart = wb.add_chart({'type': 'column'})\n",
    "    \n",
    "    chart.add_series({\n",
    "        'categories': category_range,\n",
    "        'values': value_range,\n",
    "        'data_labels': {'value': True, 'num_format': '#,##0', 'font': {'rotation': -90}},\n",
    "        'fill': {'color':'#604A7B'},\n",
    "        'gap': 20\n",
    "    })\n",
    "\n",
    "    chart.set_legend({'none': True})\n",
    "    \n",
    "    chart.set_x_axis({'major_gridlines': {'visible': False}, 'num_format': '#,##0'})\n",
    "    chart.set_y_axis({'visible': False, 'major_gridlines': {'visible': False}})\n",
    "    \n",
    "    chart.set_plotarea({'layout': {'x': 0.01, 'y': 0.01, 'width': 0.97, 'height': 0.67}})\n",
    "    chart.set_chartarea({'border': {'none': True}})\n",
    "\n",
    "    return chart"
   ]
  },
  {
   "cell_type": "markdown",
   "metadata": {},
   "source": [
    "### calc_xl_range()"
   ]
  },
  {
   "cell_type": "code",
   "execution_count": 6,
   "metadata": {
    "ExecuteTime": {
     "end_time": "2020-12-01T10:38:43.165877Z",
     "start_time": "2020-12-01T10:38:43.158504Z"
    }
   },
   "outputs": [],
   "source": [
    "def calc_xl_range(sheet_name, first_row, column, last_row, header=True):\n",
    "    '''\n",
    "    Calculate Excel range\n",
    "    \n",
    "    Example:\n",
    "    --------    \n",
    "    calc_xl_range('Sheet1', 2, 1, 10, False)\n",
    "    >> range: Sheet1!$B$3:$B$11\n",
    "\n",
    "    \n",
    "    Parameters:\n",
    "    -----------\n",
    "    sheet_name: str - sheet name\n",
    "    \n",
    "    first_row: int - first row\n",
    "    \n",
    "    column: int - column\n",
    "    \n",
    "    last_row: int - last row\n",
    "    \n",
    "    header: boolean - default True - take account of header\n",
    "                    (add 1 to first/last rows)\n",
    "    \n",
    "    \n",
    "    Notes:\n",
    "    ------\n",
    "    Uses -> xl_range_abs(first_row, first_col, last_row, last_col)\n",
    "\n",
    "    '''\n",
    "    if header:\n",
    "        first_row += 1\n",
    "        \n",
    "    range_ = xl_range_abs(first_row, column, last_row, column)\n",
    "    range_ = f'{sheet_name}!{range_}'     \n",
    "#     print(f'range: {range_}')\n",
    "    \n",
    "    return range_  "
   ]
  },
  {
   "cell_type": "markdown",
   "metadata": {},
   "source": [
    "# Sales data"
   ]
  },
  {
   "cell_type": "markdown",
   "metadata": {},
   "source": [
    "## generate and import"
   ]
  },
  {
   "cell_type": "code",
   "execution_count": 7,
   "metadata": {
    "ExecuteTime": {
     "end_time": "2020-12-01T10:38:43.279181Z",
     "start_time": "2020-12-01T10:38:43.169228Z"
    }
   },
   "outputs": [
    {
     "data": {
      "text/html": [
       "<div>\n",
       "<style scoped>\n",
       "    .dataframe tbody tr th:only-of-type {\n",
       "        vertical-align: middle;\n",
       "    }\n",
       "\n",
       "    .dataframe tbody tr th {\n",
       "        vertical-align: top;\n",
       "    }\n",
       "\n",
       "    .dataframe thead th {\n",
       "        text-align: right;\n",
       "    }\n",
       "</style>\n",
       "<table border=\"1\" class=\"dataframe\">\n",
       "  <thead>\n",
       "    <tr style=\"text-align: right;\">\n",
       "      <th></th>\n",
       "      <th>location</th>\n",
       "      <th>product</th>\n",
       "      <th>month</th>\n",
       "      <th>target_sales</th>\n",
       "      <th>target_profit</th>\n",
       "      <th>actual_sales</th>\n",
       "      <th>actual_profit</th>\n",
       "    </tr>\n",
       "  </thead>\n",
       "  <tbody>\n",
       "    <tr>\n",
       "      <th>0</th>\n",
       "      <td>London</td>\n",
       "      <td>Beachwear</td>\n",
       "      <td>2020-01-01</td>\n",
       "      <td>39164</td>\n",
       "      <td>3916.40</td>\n",
       "      <td>36422.52</td>\n",
       "      <td>3642.25</td>\n",
       "    </tr>\n",
       "    <tr>\n",
       "      <th>1</th>\n",
       "      <td>London</td>\n",
       "      <td>Beachwear</td>\n",
       "      <td>2020-01-01</td>\n",
       "      <td>25383</td>\n",
       "      <td>4061.28</td>\n",
       "      <td>22844.70</td>\n",
       "      <td>3655.15</td>\n",
       "    </tr>\n",
       "    <tr>\n",
       "      <th>2</th>\n",
       "      <td>London</td>\n",
       "      <td>Beachwear</td>\n",
       "      <td>2020-01-01</td>\n",
       "      <td>16356</td>\n",
       "      <td>327.12</td>\n",
       "      <td>16356.00</td>\n",
       "      <td>327.12</td>\n",
       "    </tr>\n",
       "    <tr>\n",
       "      <th>3</th>\n",
       "      <td>London</td>\n",
       "      <td>Footwear</td>\n",
       "      <td>2020-01-01</td>\n",
       "      <td>17430</td>\n",
       "      <td>3137.40</td>\n",
       "      <td>18650.10</td>\n",
       "      <td>3357.02</td>\n",
       "    </tr>\n",
       "    <tr>\n",
       "      <th>4</th>\n",
       "      <td>London</td>\n",
       "      <td>Footwear</td>\n",
       "      <td>2020-01-01</td>\n",
       "      <td>34819</td>\n",
       "      <td>6267.42</td>\n",
       "      <td>33774.43</td>\n",
       "      <td>6079.40</td>\n",
       "    </tr>\n",
       "    <tr>\n",
       "      <th>5</th>\n",
       "      <td>London</td>\n",
       "      <td>Footwear</td>\n",
       "      <td>2020-01-01</td>\n",
       "      <td>25718</td>\n",
       "      <td>4629.24</td>\n",
       "      <td>27261.08</td>\n",
       "      <td>4906.99</td>\n",
       "    </tr>\n",
       "    <tr>\n",
       "      <th>6</th>\n",
       "      <td>London</td>\n",
       "      <td>Footwear</td>\n",
       "      <td>2020-01-01</td>\n",
       "      <td>39003</td>\n",
       "      <td>7020.54</td>\n",
       "      <td>39393.03</td>\n",
       "      <td>7090.75</td>\n",
       "    </tr>\n",
       "    <tr>\n",
       "      <th>7</th>\n",
       "      <td>London</td>\n",
       "      <td>Jeans</td>\n",
       "      <td>2020-01-01</td>\n",
       "      <td>23105</td>\n",
       "      <td>2310.50</td>\n",
       "      <td>24029.20</td>\n",
       "      <td>2402.92</td>\n",
       "    </tr>\n",
       "  </tbody>\n",
       "</table>\n",
       "</div>"
      ],
      "text/plain": [
       "  location    product      month  target_sales  target_profit  actual_sales  \\\n",
       "0   London  Beachwear 2020-01-01         39164        3916.40      36422.52   \n",
       "1   London  Beachwear 2020-01-01         25383        4061.28      22844.70   \n",
       "2   London  Beachwear 2020-01-01         16356         327.12      16356.00   \n",
       "3   London   Footwear 2020-01-01         17430        3137.40      18650.10   \n",
       "4   London   Footwear 2020-01-01         34819        6267.42      33774.43   \n",
       "5   London   Footwear 2020-01-01         25718        4629.24      27261.08   \n",
       "6   London   Footwear 2020-01-01         39003        7020.54      39393.03   \n",
       "7   London      Jeans 2020-01-01         23105        2310.50      24029.20   \n",
       "\n",
       "   actual_profit  \n",
       "0        3642.25  \n",
       "1        3655.15  \n",
       "2         327.12  \n",
       "3        3357.02  \n",
       "4        6079.40  \n",
       "5        4906.99  \n",
       "6        7090.75  \n",
       "7        2402.92  "
      ]
     },
     "execution_count": 7,
     "metadata": {},
     "output_type": "execute_result"
    }
   ],
   "source": [
    "df0 = get_data(rows=500)\n",
    "df0.head(8)"
   ]
  },
  {
   "cell_type": "markdown",
   "metadata": {
    "ExecuteTime": {
     "end_time": "2020-11-30T17:09:24.485654Z",
     "start_time": "2020-11-30T17:09:24.430050Z"
    }
   },
   "source": [
    "## Summary (3 dataframes)"
   ]
  },
  {
   "cell_type": "code",
   "execution_count": 8,
   "metadata": {
    "ExecuteTime": {
     "end_time": "2020-12-01T10:38:43.327077Z",
     "start_time": "2020-12-01T10:38:43.282985Z"
    }
   },
   "outputs": [],
   "source": [
    "df1 = (df0.groupby('location')\n",
    "          .agg(total_sales=('actual_sales', 'sum'))\n",
    "          .reset_index())\n",
    "# display(df1.head(3))\n",
    "\n",
    "mask = \"(location == 'Paris') & (month == month.max())\"\n",
    "df2 = (df0.query(mask)\n",
    "          .groupby('product')\n",
    "          .agg(total_sales=('actual_sales', 'sum'))\n",
    "          .reset_index())\n",
    "# display(df2.head(3))\n",
    "\n",
    "df3 = (df0.groupby('product')\n",
    "          .agg(total_sales=('actual_sales', 'sum'))\n",
    "          .reset_index())\n",
    "# display(df3.head(3))"
   ]
  },
  {
   "cell_type": "markdown",
   "metadata": {
    "ExecuteTime": {
     "end_time": "2020-11-22T13:07:41.203781Z",
     "start_time": "2020-11-22T13:07:40.944847Z"
    },
    "code_folding": []
   },
   "source": [
    "## Excel export"
   ]
  },
  {
   "cell_type": "code",
   "execution_count": 9,
   "metadata": {
    "ExecuteTime": {
     "end_time": "2020-12-01T10:38:43.360336Z",
     "start_time": "2020-12-01T10:38:43.329143Z"
    }
   },
   "outputs": [
    {
     "name": "stdout",
     "output_type": "stream",
     "text": [
      "Written: outputs/QuarterlyReport.xlsx\n"
     ]
    }
   ],
   "source": [
    "xl_output = 'outputs/QuarterlyReport.xlsx'\n",
    "sheet_name = 'Corporate'\n",
    "\n",
    "with pd.ExcelWriter(xl_output) as writer:\n",
    "\n",
    "    wb = writer.book\n",
    "    \n",
    "    ''' STEP 1:: Write data sheet with summary dataframes info\n",
    "    \n",
    "       To reduce repetitive code, define & iterate tuple containing:\n",
    "        - each dataframe reference \n",
    "        - a tuple containing the starting row and column position\n",
    "          to write the data into the worksheet\n",
    "    '''\n",
    "    tuple_sheets = (df1, (2, 1)), (df2, (2, 4)), (df3, (2, 7))\n",
    "    \n",
    "    for df, rowcol in tuple_sheets:\n",
    "        row, col = rowcol\n",
    "        df.to_excel(writer, sheet_name=sheet_name, \n",
    "                    startrow=row, startcol=col,\n",
    "                    index=False, header=True)       \n",
    "\n",
    "    ws = writer.sheets[sheet_name]\n",
    "    ws.set_column('A:S', 12)\n",
    "\n",
    "    \n",
    "    ''' STEP 2 :: For each dataframe written to first worksheet,\n",
    "                  generate chart object in the 'Report' worksheet\n",
    "        \n",
    "        To reduce repetitive code, define a list of tuples containing:\n",
    "        - the target chart location\n",
    "        - the function to call to create the chart\n",
    "        - a tuple containing x and y chart scaling       \n",
    "    '''\n",
    "    ws2 = wb.add_worksheet('Report')\n",
    "      \n",
    "    chartlocations = [('B2', doughnut_chart, (.8, .7)), \n",
    "                      ('B18', bar_chart, (.8, .7)),\n",
    "                      ('I12', column_chart, (.7, .7))]\n",
    "    \n",
    "    for idx, (dataframe, rowcol) in enumerate(tuple_sheets):\n",
    "\n",
    "        xl_row, xl_col = rowcol # Excel (row, column) position of the data\n",
    "        df_row, df_col = dataframe.shape # actual rows and columns in the dataframe\n",
    "\n",
    "        category_range = calc_xl_range(sheet_name,  xl_row, xl_col, xl_row + df_row)      \n",
    "        value_range = calc_xl_range(sheet_name,  xl_row, xl_col+1, xl_row + df_row)\n",
    "\n",
    "        chart_location, chart_function, xy_scale = chartlocations[idx]        \n",
    "        chart = chart_function(wb, category_range, value_range)\n",
    "        \n",
    "        x_scale, y_scale = xy_scale\n",
    "        ws2.insert_chart(chart_location, chart, {'x_scale': x_scale, 'y_scale': y_scale})  \n",
    "\n",
    "print(f'Written: {xl_output}')"
   ]
  },
  {
   "cell_type": "code",
   "execution_count": null,
   "metadata": {},
   "outputs": [],
   "source": []
  },
  {
   "cell_type": "code",
   "execution_count": null,
   "metadata": {},
   "outputs": [],
   "source": []
  },
  {
   "cell_type": "code",
   "execution_count": null,
   "metadata": {},
   "outputs": [],
   "source": []
  },
  {
   "cell_type": "code",
   "execution_count": null,
   "metadata": {},
   "outputs": [],
   "source": []
  },
  {
   "cell_type": "code",
   "execution_count": null,
   "metadata": {},
   "outputs": [],
   "source": []
  }
 ],
 "metadata": {
  "kernelspec": {
   "display_name": "Python 3",
   "language": "python",
   "name": "python3"
  },
  "language_info": {
   "codemirror_mode": {
    "name": "ipython",
    "version": 3
   },
   "file_extension": ".py",
   "mimetype": "text/x-python",
   "name": "python",
   "nbconvert_exporter": "python",
   "pygments_lexer": "ipython3",
   "version": "3.8.2"
  },
  "toc": {
   "base_numbering": 1,
   "nav_menu": {},
   "number_sections": true,
   "sideBar": true,
   "skip_h1_title": false,
   "title_cell": "Table of Contents",
   "title_sidebar": "Contents",
   "toc_cell": false,
   "toc_position": {
    "height": "calc(100% - 180px)",
    "left": "10px",
    "top": "150px",
    "width": "375.2px"
   },
   "toc_section_display": true,
   "toc_window_display": true
  }
 },
 "nbformat": 4,
 "nbformat_minor": 4
}
